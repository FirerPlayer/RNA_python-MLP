{
  "nbformat": 4,
  "nbformat_minor": 0,
  "metadata": {
    "colab": {
      "name": "RNA-MLP.ipynb",
      "provenance": [],
      "collapsed_sections": []
    },
    "kernelspec": {
      "name": "python3",
      "display_name": "Python 3"
    },
    "language_info": {
      "name": "python"
    }
  },
  "cells": [
    {
      "cell_type": "markdown",
      "metadata": {
        "id": "ryAYBQq4uqYO"
      },
      "source": [
        "## Obtenção dos dados"
      ]
    },
    {
      "cell_type": "code",
      "metadata": {
        "id": "oQMFdgKqOoDX"
      },
      "source": [
        "# Criando o dataset\n",
        "\n",
        "# A\n",
        "a =[0, 0, 1, 1, 0, 0,\n",
        "    0, 1, 0, 0, 1, 0,\n",
        "    1, 1, 1, 1, 1, 1,\n",
        "    1, 0, 0, 0, 0, 1,\n",
        "    1, 0, 0, 0, 0, 1]\n",
        "# B\n",
        "b =[0, 1, 1, 1, 0, 0,\n",
        "    0, 1, 0, 0, 1, 0,\n",
        "    0, 1, 1, 1, 1, 0,\n",
        "    0, 1, 0, 0, 1, 0,\n",
        "    0, 1, 1, 1, 0, 0]\n",
        "# C\n",
        "c =[0, 1, 1, 1, 1, 0,\n",
        "    0, 1, 0, 0, 0, 0,\n",
        "    0, 1, 0, 0, 0, 0,\n",
        "    0, 1, 0, 0, 0, 0,\n",
        "    0, 1, 1, 1, 1, 0]\n",
        "\n",
        "# Saída\n",
        "y =[[1, 0, 0],\n",
        "    [0, 1, 0],\n",
        "    [0, 0, 1]]\n"
      ],
      "execution_count": 12,
      "outputs": []
    },
    {
      "cell_type": "markdown",
      "metadata": {
        "id": "nTo50cZeuyCs"
      },
      "source": [
        "## Visualização dos dados"
      ]
    },
    {
      "cell_type": "code",
      "metadata": {
        "colab": {
          "base_uri": "https://localhost:8080/",
          "height": 265
        },
        "id": "jLAC_U7euFP5",
        "outputId": "0558075c-bdb1-464e-fe78-df1edb7c15b9"
      },
      "source": [
        "import numpy as np\n",
        "import matplotlib.pyplot as plt\n",
        "# Plotando A.\n",
        "plt.imshow(np.array(b).reshape(5, 6))\n",
        "plt.show()\n"
      ],
      "execution_count": 13,
      "outputs": [
        {
          "output_type": "display_data",
          "data": {
            "image/png": "[encoded data removed]",
            "text/plain": [
              "<Figure size 432x288 with 1 Axes>"
            ]
          },
          "metadata": {
            "needs_background": "light"
          }
        }
      ]
    },
    {
      "cell_type": "markdown",
      "metadata": {
        "id": "e12B4wsnvIOf"
      },
      "source": [
        "## Preparação dos dados"
      ]
    },
    {
      "cell_type": "code",
      "metadata": {
        "colab": {
          "base_uri": "https://localhost:8080/"
        },
        "id": "uFtFimSsuHrx",
        "outputId": "f12e2c94-361f-4fb6-aa81-9b7c11ea8be3"
      },
      "source": [
        "# Convertendo para array do numpy\n",
        "\n",
        "\"\"\"\n",
        "Convertendo as entradas em apenas um vetor do numpy para alimentar diretamente\n",
        "a rede neural.\n",
        "\"\"\"\n",
        "\n",
        "x =[np.array(a).reshape(1, 30), np.array(b).reshape(1, 30),\n",
        "\t\t\t\t\t\t\t\tnp.array(c).reshape(1, 30),]\n",
        "\t\t\t\t\t\t\t\t\n",
        "\n",
        "y = np.array(y)\n",
        "\n",
        "\n",
        "print(x, \"\\n\\n\", y)\n"
      ],
      "execution_count": 14,
      "outputs": [
        {
          "output_type": "stream",
          "name": "stdout",
          "text": [
            "[array([[0, 0, 1, 1, 0, 0, 0, 1, 0, 0, 1, 0, 1, 1, 1, 1, 1, 1, 1, 0, 0, 0,\n",
            "        0, 1, 1, 0, 0, 0, 0, 1]]), array([[0, 1, 1, 1, 0, 0, 0, 1, 0, 0, 1, 0, 0, 1, 1, 1, 1, 0, 0, 1, 0, 0,\n",
            "        1, 0, 0, 1, 1, 1, 0, 0]]), array([[0, 1, 1, 1, 1, 0, 0, 1, 0, 0, 0, 0, 0, 1, 0, 0, 0, 0, 0, 1, 0, 0,\n",
            "        0, 0, 0, 1, 1, 1, 1, 0]])] \n",
            "\n",
            " [[1 0 0]\n",
            " [0 1 0]\n",
            " [0 0 1]]\n"
          ]
        }
      ]
    },
    {
      "cell_type": "markdown",
      "metadata": {
        "id": "FR3jdHj9vcNV"
      },
      "source": [
        "## Implementado a Rede Neural"
      ]
    },
    {
      "cell_type": "code",
      "metadata": {
        "id": "5ysqY5w1uHxa"
      },
      "source": [
        "import numpy as np\n",
        "import matplotlib.pyplot as plt\n",
        "\n",
        "# Função de ativação\n",
        "def sigmoid(x):\n",
        "\treturn(1/(1 + np.exp(-x)))\n",
        "\n",
        "# Criação da MLP\n",
        "# 1 Input layer(1, 30)\n",
        "# 1 hidden layer (1, 5)\n",
        "# 1 output layer(3, 3)\n",
        "\n",
        "def f_forward(x, w1, w2,b1,b2):\n",
        "\t# hidden layer\n",
        "\tz1 = x.dot(w1) + b1# entrada vindo da layer 1\n",
        "\ta1 = sigmoid(z1)# saida da layer 2\n",
        "\t\n",
        "\t# Output layer\n",
        "\tz2 = a1.dot(w2) + b2# entrada vindo da camada anterior\n",
        "\ta2 = sigmoid(z2)# saida da ultima camada\n",
        "\treturn(a2)\n",
        "\n",
        "# Inicializa os pesos randomicamente (entre 0 e 1)\n",
        "def generate_wt(x, y):\n",
        "\tl =[]\n",
        "\tfor i in range(x * y):\n",
        "\t\tl.append(np.random.randn())\n",
        "\treturn(np.array(l).reshape(x, y))\n",
        "\t\n",
        "# Calculo do main square error (MSE)\n",
        "def loss(out, Y):\n",
        "\ts =(np.square(out-Y))\n",
        "\ts = np.sum(s)/len(y)\n",
        "\treturn(s)\n",
        "\n",
        "# Backpropagation of error\n",
        "def back_prop(x, y, w1, w2, b1, b2, alpha):\n",
        "\t# hidden layer\n",
        "\tz1 = x.dot(w1)# entrada vindo da layer 1\n",
        "\ta1 = sigmoid(z1+b1)# saida da layer 2\n",
        "\t\n",
        "\t# Output layer\n",
        "\tz2 = a1.dot(w2)# entrada vindo da camada anterior\n",
        "\ta2 = sigmoid(z2+b2)# saida da ultima camada\n",
        "\t\n",
        "\t# Erro na camada de saida\n",
        "\td2 =(a2-y)\n",
        "\td1 = np.multiply((w2.dot((d2.transpose()))).transpose(),\n",
        "\t\t\t\t\t\t\t\t(np.multiply(a1, 1-a1)))\n",
        "\n",
        "\t# Gradiente dos pesos\n",
        "\tw1_adj = x.transpose().dot(d1)\n",
        "\tdb1 = d1[-1][-1] \n",
        "\tw2_adj = a1.transpose().dot(d2)\n",
        "\tdb2 = d2[-1][-1] \n",
        "\t\n",
        "\t# Atualiza os pesos e bias\n",
        "\tw1 = w1-(alpha*(w1_adj))\n",
        "\tw2 = w2-(alpha*(w2_adj))\n",
        "\tb1 = b1-(alpha*db1)\n",
        "\tb2 = b2-(alpha*db2)\n",
        "\t\n",
        "\treturn(w1, w2, b1, b2)\n",
        "\n",
        "def train(x, Y, w1, w2, b1, b2, alpha = 0.01, epoch = 10):\n",
        "\tacc =[]\n",
        "\tlosss =[]\n",
        "\tfor j in range(epoch):\n",
        "\t\tl =[]\n",
        "\t\tfor i in range(len(x)):\n",
        "\t\t\tout = f_forward(x[i], w1, w2, b1, b2)\n",
        "\t\t\tl.append((loss(out, Y[i])))\n",
        "\t\t\tw1, w2, b1, b2 = back_prop(x[i], y[i], w1, w2, b1, b2, alpha)\n",
        "\t\tprint(\"Iteração:\", j + 1, \"======== acc:\", (1-(sum(l)/len(x)))*100)\n",
        "\t\tacc.append((1-(sum(l)/len(x)))*100)\n",
        "\t\tlosss.append(sum(l)/len(x))\n",
        "\treturn(acc, losss, w1, w2, b1, b2)\n",
        "\n",
        "def predict(x, w1, w2, b1, b2):\n",
        "\tOut = f_forward(x, w1, w2, b1, b2)\n",
        "\tmaxm = 0\n",
        "\tk = 0\n",
        "\tfor i in range(len(Out[0])):\n",
        "\t\tif(maxm<Out[0][i]):\n",
        "\t\t\tmaxm = Out[0][i]\n",
        "\t\t\tk = i\n",
        "\tif(k == 0):\n",
        "\t\tprint(\"Imagem da letra A.\")\n",
        "\telif(k == 1):\n",
        "\t\tprint(\"Imagem da letra B.\")\n",
        "\telse:\n",
        "\t\tprint(\"Imagem da letra C.\")\n",
        "\t#mostra o resultado\n",
        "\tplt.imshow(x.reshape(5, 6))\n",
        "\tplt.show()\n",
        "\n",
        "\n"
      ],
      "execution_count": 15,
      "outputs": []
    },
    {
      "cell_type": "markdown",
      "metadata": {
        "id": "fWA3sWL6l_4C"
      },
      "source": [
        "## Execução da MLP"
      ]
    },
    {
      "cell_type": "code",
      "metadata": {
        "id": "VZvczu-Eufgs",
        "colab": {
          "base_uri": "https://localhost:8080/"
        },
        "outputId": "c311a03b-060d-4af9-9a31-fdf21f729cf9"
      },
      "source": [
        "# Gera os pesos sinapticos da rede\n",
        "w1 = generate_wt(30, 5)\n",
        "w2 = generate_wt(5, 3)\n",
        "b1 = np.random.randn()\n",
        "b2 = np.random.randn()\n",
        "\n",
        "print(w1)\n",
        "print(f'Tamanho da matriz de pesos w1: {len(w1)} x {len(w1[0])}')\n",
        "print('\\n\\n', w2)\n",
        "print(f'Tamanho da matriz de pesos w2: {len(w2)} x {len(w2[0])}\\n')\n",
        "print('b1 : ', b1)\n",
        "print('b2 : ', b2)"
      ],
      "execution_count": 16,
      "outputs": [
        {
          "output_type": "stream",
          "name": "stdout",
          "text": [
            "[[ 1.19045229e+00  5.98621413e-01  1.42521115e+00  1.34625938e+00\n",
            "   7.57265136e-01]\n",
            " [ 2.89365017e+00 -7.62571986e-01  6.02047163e-01  3.59247975e-01\n",
            "   5.20757394e-01]\n",
            " [-5.52353763e-01 -1.43706391e+00 -1.98323223e+00 -1.21741857e+00\n",
            "  -7.15424097e-01]\n",
            " [ 8.28819837e-01 -9.41312618e-01  5.38475239e-01 -1.39409246e+00\n",
            "   2.72018848e-02]\n",
            " [-5.49361142e-01  6.92068544e-01 -9.32133402e-01 -1.51729460e+00\n",
            "   3.28919024e-01]\n",
            " [-1.38621873e+00  1.43226004e+00  7.54523610e-01  5.75278692e-01\n",
            "   9.55598241e-01]\n",
            " [-8.82865026e-01 -9.30576758e-01  2.05548412e+00  7.07661220e-01\n",
            "  -5.98373217e-01]\n",
            " [ 2.20875098e-01 -3.75905804e-01 -9.36223574e-02  5.75889838e-03\n",
            "   2.39204762e-02]\n",
            " [-1.73847196e+00 -8.94046397e-01  9.58942761e-01  7.10600331e-01\n",
            "   3.54248820e-02]\n",
            " [ 3.77779227e-01  2.24651502e-02  2.36266804e+00  7.34434788e-01\n",
            "  -5.56913483e-01]\n",
            " [-6.39795026e-01  1.22929600e+00  2.29765174e+00 -4.15549142e-01\n",
            "   2.29209103e+00]\n",
            " [-1.36568827e-01 -2.84718317e-01 -1.39115153e-01 -1.83176179e-01\n",
            "  -9.25454819e-02]\n",
            " [-1.25456628e+00  5.11870582e-01 -2.15154096e+00  1.14675994e+00\n",
            "   9.56170730e-01]\n",
            " [-8.55968396e-01  8.24016183e-02  5.77290122e-01 -1.76194586e-03\n",
            "  -3.72563943e-02]\n",
            " [-8.54022242e-02  1.21461268e+00 -2.28864571e-01  1.10802349e+00\n",
            "  -7.39363052e-01]\n",
            " [ 1.41845930e+00  5.80977081e-01  1.34040909e-01 -4.36627264e-01\n",
            "  -1.15485920e+00]\n",
            " [-1.09580113e+00  1.25532618e+00  7.77072096e-02 -3.90416605e-01\n",
            "   5.48465290e-02]\n",
            " [-1.49393047e-01  1.94152727e+00 -2.62072722e+00 -1.57741589e-01\n",
            "  -1.01898537e+00]\n",
            " [-8.66981493e-01 -2.05142282e+00 -1.16217653e+00 -5.34054488e-02\n",
            "  -2.89227972e+00]\n",
            " [ 1.21913620e+00 -2.15802872e-01  1.20035189e-01  1.50357314e+00\n",
            "  -1.78056070e+00]\n",
            " [ 1.13608404e+00 -4.07959609e-01 -1.57713313e+00  2.92106571e-01\n",
            "   1.09950517e-01]\n",
            " [-6.76110481e-02 -6.92240246e-01  1.64443423e-01  3.93399746e-02\n",
            "   7.98472434e-01]\n",
            " [ 6.21683606e-01 -2.00958527e-01  2.04619053e+00 -7.17099831e-01\n",
            "  -5.64361825e-01]\n",
            " [ 1.49464795e-01 -5.68255078e-02  4.46802644e-01  6.70646991e-02\n",
            "  -1.39939803e+00]\n",
            " [-1.13257577e+00 -1.07179890e+00  3.17360970e-01  3.83203980e-01\n",
            "   1.06416864e+00]\n",
            " [ 4.63152388e-01  1.94747942e-02  4.57037474e-01  4.05431868e-01\n",
            "  -4.63170987e-01]\n",
            " [ 1.05437646e+00  1.34459953e-01 -1.75041451e+00  1.00084111e-01\n",
            "   6.39313980e-01]\n",
            " [-1.71830330e+00 -3.73634964e-01  1.41602357e+00  1.39786076e+00\n",
            "   1.11010313e+00]\n",
            " [-1.34698690e+00  2.24843957e+00 -1.39505090e+00  1.46414582e+00\n",
            "   4.56090116e-02]\n",
            " [-6.04261212e-01  1.24139140e+00 -1.35290696e+00 -1.36243021e+00\n",
            "  -1.17409565e+00]]\n",
            "Tamanho da matriz de pesos w1: 30 x 5\n",
            "\n",
            "\n",
            " [[ 0.51659808  1.34548821 -0.91864373]\n",
            " [-0.28037012  0.45835159 -0.0786019 ]\n",
            " [-2.20017465  2.13700087  0.51283985]\n",
            " [-0.08062786  1.02503303 -0.25097967]\n",
            " [-2.4528538   0.29054938 -1.13358288]]\n",
            "Tamanho da matriz de pesos w2: 5 x 3\n",
            "\n",
            "b1 :  -0.5439512808716332\n",
            "b2 :  -0.7398478499325513\n"
          ]
        }
      ]
    },
    {
      "cell_type": "code",
      "metadata": {
        "id": "voLiNKDXuhOo",
        "colab": {
          "base_uri": "https://localhost:8080/"
        },
        "outputId": "4472f1f6-2f75-43bc-a373-4cc60058f74d"
      },
      "source": [
        "\"\"\"Os argumentos da função de treino é a matriz X,\n",
        "resultados corretos y, pesos w1, w2, taxa de aprendizado = 0.1,\n",
        "numero de iteralções ou épocas. Essa função vai retornar várias listas\n",
        "uma com a acuracia do treino, outra com o MSE e os pesos da rede\n",
        "após o treino\"\"\"\n",
        "\n",
        "acc, losss, w1, w2, b1, b2 = train(x, y, w1, w2, b1, b2, 0.2, 100)\n"
      ],
      "execution_count": 17,
      "outputs": [
        {
          "output_type": "stream",
          "name": "stdout",
          "text": [
            "Iteração: 1 ======== acc: 75.14996850572612\n",
            "Iteração: 2 ======== acc: 77.88321848614011\n",
            "Iteração: 3 ======== acc: 80.3019687624033\n",
            "Iteração: 4 ======== acc: 81.85697612452604\n",
            "Iteração: 5 ======== acc: 82.81937115838454\n",
            "Iteração: 6 ======== acc: 83.53983777949686\n",
            "Iteração: 7 ======== acc: 84.16117360623244\n",
            "Iteração: 8 ======== acc: 84.73761220354731\n",
            "Iteração: 9 ======== acc: 85.28859749216944\n",
            "Iteração: 10 ======== acc: 85.81811536874032\n",
            "Iteração: 11 ======== acc: 86.32401427742346\n",
            "Iteração: 12 ======== acc: 86.80319234034879\n",
            "Iteração: 13 ======== acc: 87.25406738995014\n",
            "Iteração: 14 ======== acc: 87.67728082271667\n",
            "Iteração: 15 ======== acc: 88.07552475416408\n",
            "Iteração: 16 ======== acc: 88.4530671905128\n",
            "Iteração: 17 ======== acc: 88.81523003085469\n",
            "Iteração: 18 ======== acc: 89.1679012572462\n",
            "Iteração: 19 ======== acc: 89.51709020935206\n",
            "Iteração: 20 ======== acc: 89.86849879432405\n",
            "Iteração: 21 ======== acc: 90.22706875787293\n",
            "Iteração: 22 ======== acc: 90.59648710288994\n",
            "Iteração: 23 ======== acc: 90.97869274459627\n",
            "Iteração: 24 ======== acc: 91.37350747353629\n",
            "Iteração: 25 ======== acc: 91.7785603182667\n",
            "Iteração: 26 ======== acc: 92.18962388905558\n",
            "Iteração: 27 ======== acc: 92.6013268104068\n",
            "Iteração: 28 ======== acc: 93.00803725487154\n",
            "Iteração: 29 ======== acc: 93.4046511915881\n",
            "Iteração: 30 ======== acc: 93.78710057698953\n",
            "Iteração: 31 ======== acc: 94.15254290901188\n",
            "Iteração: 32 ======== acc: 94.49930413928512\n",
            "Iteração: 33 ======== acc: 94.82668338054584\n",
            "Iteração: 34 ======== acc: 95.13471094922687\n",
            "Iteração: 35 ======== acc: 95.42391660580866\n",
            "Iteração: 36 ======== acc: 95.69513463975468\n",
            "Iteração: 37 ======== acc: 95.94935328637891\n",
            "Iteração: 38 ======== acc: 96.18760631686834\n",
            "Iteração: 39 ======== acc: 96.41090094266464\n",
            "Iteração: 40 ======== acc: 96.6201754352906\n",
            "Iteração: 41 ======== acc: 96.81628020287977\n",
            "Iteração: 42 ======== acc: 96.99997653291781\n",
            "Iteração: 43 ======== acc: 97.17194750503843\n",
            "Iteração: 44 ======== acc: 97.33281580102961\n",
            "Iteração: 45 ======== acc: 97.48316356545294\n",
            "Iteração: 46 ======== acc: 97.62355032173753\n",
            "Iteração: 47 ======== acc: 97.75452624071441\n",
            "Iteração: 48 ======== acc: 97.87663957588256\n",
            "Iteração: 49 ======== acc: 97.99043848485958\n",
            "Iteração: 50 ======== acc: 98.09646845522335\n",
            "Iteração: 51 ======== acc: 98.19526701392469\n",
            "Iteração: 52 ======== acc: 98.28735737328377\n",
            "Iteração: 53 ======== acc: 98.37324232102506\n",
            "Iteração: 54 ======== acc: 98.45339919002446\n",
            "Iteração: 55 ======== acc: 98.52827629597184\n",
            "Iteração: 56 ======== acc: 98.59829089008811\n",
            "Iteração: 57 ======== acc: 98.66382846082043\n",
            "Iteração: 58 ======== acc: 98.72524311655425\n",
            "Iteração: 59 ======== acc: 98.7828587588223\n",
            "Iteração: 60 ======== acc: 98.83697077997819\n",
            "Iteração: 61 ======== acc: 98.88784806557112\n",
            "Iteração: 62 ======== acc: 98.9357351331031\n",
            "Iteração: 63 ======== acc: 98.98085428627297\n",
            "Iteração: 64 ======== acc: 99.02340770322729\n",
            "Iteração: 65 ======== acc: 99.06357940790797\n",
            "Iteração: 66 ======== acc: 99.10153709608755\n",
            "Iteração: 67 ======== acc: 99.13743380353031\n",
            "Iteração: 68 ======== acc: 99.1714094144098\n",
            "Iteração: 69 ======== acc: 99.20359201499332\n",
            "Iteração: 70 ======== acc: 99.2340991017506\n",
            "Iteração: 71 ======== acc: 99.26303865529134\n",
            "Iteração: 72 ======== acc: 99.29051009249459\n",
            "Iteração: 73 ======== acc: 99.31660510930239\n",
            "Iteração: 74 ======== acc: 99.34140842622168\n",
            "Iteração: 75 ======== acc: 99.36499844782641\n",
            "Iteração: 76 ======== acc: 99.38744784662565\n",
            "Iteração: 77 ======== acc: 99.40882408066317\n",
            "Iteração: 78 ======== acc: 99.42918985320549\n",
            "Iteração: 79 ======== acc: 99.4486035219031\n",
            "Iteração: 80 ======== acc: 99.46711946389925\n",
            "Iteração: 81 ======== acc: 99.48478840252598\n",
            "Iteração: 82 ======== acc: 99.50165770047693\n",
            "Iteração: 83 ======== acc: 99.51777162367918\n",
            "Iteração: 84 ======== acc: 99.53317157950049\n",
            "Iteração: 85 ======== acc: 99.5478963324188\n",
            "Iteração: 86 ======== acc: 99.5619821998403\n",
            "Iteração: 87 ======== acc: 99.57546323037458\n",
            "Iteração: 88 ======== acc: 99.58837136655222\n",
            "Iteração: 89 ======== acc: 99.60073659369554\n",
            "Iteração: 90 ======== acc: 99.61258707641973\n",
            "Iteração: 91 ======== acc: 99.62394928404423\n",
            "Iteração: 92 ======== acc: 99.63484810602634\n",
            "Iteração: 93 ======== acc: 99.64530695838764\n",
            "Iteração: 94 ======== acc: 99.65534788198327\n",
            "Iteração: 95 ======== acc: 99.66499163336213\n",
            "Iteração: 96 ======== acc: 99.6742577688787\n",
            "Iteração: 97 ======== acc: 99.68316472264344\n",
            "Iteração: 98 ======== acc: 99.69172987883404\n",
            "Iteração: 99 ======== acc: 99.69996963883581\n",
            "Iteração: 100 ======== acc: 99.707899483631\n"
          ]
        }
      ]
    },
    {
      "cell_type": "markdown",
      "metadata": {
        "id": "kyUUiRLGmPnU"
      },
      "source": [
        "## Resultados"
      ]
    },
    {
      "cell_type": "code",
      "metadata": {
        "id": "SSlyQeYNuivy",
        "colab": {
          "base_uri": "https://localhost:8080/",
          "height": 541
        },
        "outputId": "7198f434-e59f-4989-f44b-18c37b4c10da"
      },
      "source": [
        "import matplotlib.pyplot as plt1\n",
        "\n",
        "# ploting accuraccy\n",
        "plt1.plot(acc)\n",
        "plt1.ylabel('Acuracia')\n",
        "plt1.xlabel(\"Iterações\")\n",
        "plt1.show()\n",
        "\n",
        "# plotting Loss\n",
        "plt1.plot(losss)\n",
        "plt1.ylabel('Main Squared Error')\n",
        "plt1.xlabel(\"Iterações\")\n",
        "plt1.show()\n"
      ],
      "execution_count": 18,
      "outputs": [
        {
          "output_type": "display_data",
          "data": {
            "image/png": "[encoded data removed]",
            "text/plain": [
              "<Figure size 432x288 with 1 Axes>"
            ]
          },
          "metadata": {
            "needs_background": "light"
          }
        },
        {
          "output_type": "display_data",
          "data": {
            "image/png": "[encoded data removed]",
            "text/plain": [
              "<Figure size 432x288 with 1 Axes>"
            ]
          },
          "metadata": {
            "needs_background": "light"
          }
        }
      ]
    },
    {
      "cell_type": "code",
      "metadata": {
        "id": "RMTok1rWulIE",
        "colab": {
          "base_uri": "https://localhost:8080/"
        },
        "outputId": "2750dc72-1824-4a46-e732-bd13208dbfb1"
      },
      "source": [
        "# Pesos após o treino\n",
        "print('W1 : \\n',w1, \"\\n W2 :\\n\", w2)\n",
        "print('b1 : ', b1)\n",
        "print('b2 : ', b2)\n"
      ],
      "execution_count": 19,
      "outputs": [
        {
          "output_type": "stream",
          "name": "stdout",
          "text": [
            "W1 : \n",
            " [[ 1.19045229e+00  5.98621413e-01  1.42521115e+00  1.34625938e+00\n",
            "   7.57265136e-01]\n",
            " [ 2.54172310e+00 -1.07816560e+00  5.20876089e-01  4.29215697e-01\n",
            "   9.80789188e-01]\n",
            " [-9.16399395e-01 -1.46585149e+00 -2.11473689e+00 -1.21294306e+00\n",
            "  -3.63209260e-01]\n",
            " [ 4.64774206e-01 -9.70100199e-01  4.06970578e-01 -1.38961694e+00\n",
            "   3.79416723e-01]\n",
            " [-1.46507714e+00  3.74216413e-01 -1.20960428e+00 -1.14563191e+00\n",
            "   6.39368861e-01]\n",
            " [-1.38621873e+00  1.43226004e+00  7.54523610e-01  5.75278692e-01\n",
            "   9.55598241e-01]\n",
            " [-8.82865026e-01 -9.30576758e-01  2.05548412e+00  7.07661220e-01\n",
            "  -5.98373217e-01]\n",
            " [-1.43170534e-01 -4.04693385e-01 -2.25127018e-01  1.02344119e-02\n",
            "   3.76135314e-01]\n",
            " [-1.73847196e+00 -8.94046397e-01  9.58942761e-01  7.10600331e-01\n",
            "   3.54248820e-02]\n",
            " [ 3.77779227e-01  2.24651502e-02  2.36266804e+00  7.34434788e-01\n",
            "  -5.56913483e-01]\n",
            " [-8.81246581e-02  1.51836055e+00  2.44361796e+00 -7.82736314e-01\n",
            "   2.33385603e+00]\n",
            " [-1.36568827e-01 -2.84718317e-01 -1.39115153e-01 -1.83176179e-01\n",
            "  -9.25454819e-02]\n",
            " [-1.26668484e+00  7.98676615e-01 -2.20187455e+00  1.08126774e+00\n",
            "   8.48353774e-01]\n",
            " [-1.22001403e+00  5.36140373e-02  4.45785461e-01  2.71356768e-03\n",
            "   3.14958444e-01]\n",
            " [ 4.66268143e-01  1.50367723e+00 -8.28983539e-02  7.40836320e-01\n",
            "  -6.97598051e-01]\n",
            " [ 1.97012967e+00  8.70041630e-01  2.80007127e-01 -8.03814436e-01\n",
            "  -1.11309420e+00]\n",
            " [-5.44130760e-01  1.54439073e+00  2.23673427e-01 -7.57603777e-01\n",
            "   9.66115301e-02]\n",
            " [-1.61511611e-01  2.22833330e+00 -2.67106081e+00 -2.23233797e-01\n",
            "  -1.12680233e+00]\n",
            " [-8.79100058e-01 -1.76461679e+00 -1.21251012e+00 -1.18897657e-01\n",
            "  -3.00009667e+00]\n",
            " [ 8.67209130e-01 -5.31396486e-01  3.88641157e-02  1.57354086e+00\n",
            "  -1.32052891e+00]\n",
            " [ 1.13608404e+00 -4.07959609e-01 -1.57713313e+00  2.92106571e-01\n",
            "   1.09950517e-01]\n",
            " [-6.76110481e-02 -6.92240246e-01  1.64443423e-01  3.93399746e-02\n",
            "   7.98472434e-01]\n",
            " [ 1.18547254e+00 -1.98700010e-01  2.24249034e+00 -1.01879479e+00\n",
            "  -4.14779867e-01]\n",
            " [ 1.37346230e-01  2.29980525e-01  3.96469057e-01  1.57249089e-03\n",
            "  -1.50721499e+00]\n",
            " [-1.14469433e+00 -7.84992866e-01  2.67027383e-01  3.17711771e-01\n",
            "   9.56351681e-01]\n",
            " [ 1.11225321e-01 -2.96118820e-01  3.75866400e-01  4.75399590e-01\n",
            "  -3.13919246e-03]\n",
            " [ 7.02449392e-01 -1.81133661e-01 -1.83158558e+00  1.70051832e-01\n",
            "   1.09934577e+00]\n",
            " [-2.07023036e+00 -6.89228578e-01  1.33485250e+00  1.46782848e+00\n",
            "   1.57013493e+00]\n",
            " [-2.26270290e+00  1.93058744e+00 -1.67252178e+00  1.83580850e+00\n",
            "   3.56058848e-01]\n",
            " [-6.16379777e-01  1.52819743e+00 -1.40324055e+00 -1.42792242e+00\n",
            "  -1.28191260e+00]] \n",
            " W2 :\n",
            " [[ 0.04462422  2.36485726 -2.14330398]\n",
            " [ 2.64160916 -2.7886536  -3.39743948]\n",
            " [-2.62539104  3.70818838 -1.46639767]\n",
            " [-0.73409973 -0.92171559  1.64261602]\n",
            " [-3.61211596 -2.0213682   1.17221931]]\n",
            "b1 :  -0.19173644307791757\n",
            "b2 :  0.201665447657531\n"
          ]
        }
      ]
    },
    {
      "cell_type": "markdown",
      "metadata": {
        "id": "sKebLicfS6Hw"
      },
      "source": [
        "###Predição"
      ]
    },
    {
      "cell_type": "code",
      "metadata": {
        "id": "tPduA8qIunTD",
        "colab": {
          "base_uri": "https://localhost:8080/",
          "height": 282
        },
        "outputId": "05fb1ea8-863e-44b6-e480-54ccb5b962ba"
      },
      "source": [
        "\"\"\"\n",
        "A funçaõ de predição tem os seguintes argumentos:\n",
        "1) matriz correspondente a imagem\n",
        "2) w1 pesos apos o treino\n",
        "3) w2 pesos apos o treino\n",
        "4) Bias b1 e b2\n",
        "\"\"\"\n",
        "predict(x[1], w1, w2, b1, b2)\n"
      ],
      "execution_count": 20,
      "outputs": [
        {
          "output_type": "stream",
          "name": "stdout",
          "text": [
            "Imagem da letra B.\n"
          ]
        },
        {
          "output_type": "display_data",
          "data": {
            "image/png": "[encoded data removed]",
            "text/plain": [
              "<Figure size 432x288 with 1 Axes>"
            ]
          },
          "metadata": {
            "needs_background": "light"
          }
        }
      ]
    }
  ]
}